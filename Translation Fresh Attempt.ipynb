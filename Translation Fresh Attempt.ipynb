{
 "cells": [
  {
   "cell_type": "code",
   "execution_count": 6,
   "id": "a50fa97d",
   "metadata": {
    "ExecuteTime": {
     "end_time": "2023-05-04T20:34:01.558285Z",
     "start_time": "2023-05-04T20:34:01.533266Z"
    }
   },
   "outputs": [],
   "source": [
    "import numpy as np\n",
    "\n",
    "def gauss1dfunct(p, xgrid):\n",
    "    \"\"\"\n",
    "    For this function, we need to input the four parameters in p [p[0], p[1], p[2], and p[3]], \n",
    "    and the x range in data. The parameters refer to the constant term, amplitude term, \n",
    "    stdev term, and center term respectively.\n",
    "    The output will be y and the jacobian.\n",
    "    \"\"\"\n",
    "    \n",
    "    U0 = (xgrid - p[3]) / p[2]\n",
    "    U = U0**2\n",
    "    U2 = p[1] * U0 / p[2]\n",
    "    U3 = U2 * U0\n",
    "    expU = np.exp(-U / 2)\n",
    "    \n",
    "    y = p[0] + p[1] * expU\n",
    "    \n",
    "    # The Jacobian of Gauss1d\n",
    "    jac = np.zeros((len(xgrid), 4))\n",
    "    jac[:, 0] = 1.0\n",
    "    jac[:, 1] = expU\n",
    "    jac[:, 2] = U3 * expU\n",
    "    jac[:, 3] = U2 * expU\n",
    "    \n",
    "    return y, jac"
   ]
  },
  {
   "cell_type": "code",
   "execution_count": 10,
   "id": "7a7af232",
   "metadata": {
    "ExecuteTime": {
     "end_time": "2023-05-04T20:44:38.397223Z",
     "start_time": "2023-05-04T20:44:38.382224Z"
    }
   },
   "outputs": [],
   "source": [
    "import numpy as np\n",
    "from scipy.optimize import curve_fit\n",
    "from scipy.signal import savgol_filter\n",
    "\n",
    "def smooth(y, span):\n",
    "    return savgol_filter(y, span, 1)\n",
    "\n",
    "def gauss1dfit(ydata, xdata):\n",
    "    # Fitting 1d gaussian to data using curve_fit in Python.\n",
    "    # There are two inputs. Both are required, to make it simple. The first is the raw\n",
    "    # data, the second is the x-axis data.\n",
    "    # An estimate will be calculated for initial parameters.\n",
    "    # The output contains the fitted data and the fitted parameters\n",
    "    \n",
    "    yLength = len(ydata)\n",
    "    if yLength < 6:\n",
    "        raise ValueError(\"Data must have more than 6 elements\")\n",
    "    \n",
    "    span = round(0.005 * yLength)\n",
    "    if span < 5:\n",
    "        span = 5\n",
    "    ySmooth = smooth(ydata, span)\n",
    "    base, imin = np.min(ySmooth), np.argmin(ySmooth)\n",
    "    \n",
    "    if imin - span > 0 and imin + span < yLength:\n",
    "        base = np.mean(ySmooth[(imin - span):(imin + span)])\n",
    "    \n",
    "    yOffset = ydata - base\n",
    "    ymax, imax = np.max(yOffset), np.argmax(yOffset)\n",
    "    if imax == 0 or imax == yLength - 1:\n",
    "        return [], []\n",
    "\n",
    "    xdata1 = np.concatenate(([2 * xdata[1]], xdata[2:], [2 * xdata[-1]]))\n",
    "    xdata2 = np.concatenate(([2 * xdata[0]], xdata[:-2], [2 * xdata[-2]]))\n",
    "    xwidth = (xdata1 - xdata2) / 2\n",
    "\n",
    "    yArea = yOffset * xwidth\n",
    "    total = np.sum(yArea)\n",
    "    StdevArea = 0.683 * total\n",
    "    yStdev = yArea[imax]\n",
    "\n",
    "    i = 1\n",
    "    while (imax + i) < yLength and (imax - i) > 0 and yStdev < StdevArea:\n",
    "        yStdev = yStdev + yArea[imax + i] + yArea[imax - i]\n",
    "        i += 1\n",
    "\n",
    "    Stdev = (xdata[imax + i] - xdata[imax - i]) / 2\n",
    "    \n",
    "    def gauss1dfunct_wrapper(x, a, b, c, d):\n",
    "        return gauss1dfunct([a, b, c, d], x)[0]\n",
    "\n",
    "    p0 = [base, ymax, Stdev, xdata[imax]]\n",
    "\n",
    "    popt, pcov = curve_fit(gauss1dfunct_wrapper, xdata, ydata, p0)\n",
    "    ret = pcov.shape[0]\n",
    "    \n",
    "    return popt, ret"
   ]
  },
  {
   "cell_type": "code",
   "execution_count": 11,
   "id": "dcd189f1",
   "metadata": {
    "ExecuteTime": {
     "end_time": "2023-05-04T20:44:40.717246Z",
     "start_time": "2023-05-04T20:44:40.590213Z"
    },
    "code_folding": [
     3,
     8
    ]
   },
   "outputs": [
    {
     "data": {
      "image/png": "[encoded data removed]",
      "text/plain": [
       "<Figure size 640x480 with 1 Axes>"
      ]
     },
     "metadata": {},
     "output_type": "display_data"
    }
   ],
   "source": [
    "### Testing Gauss1D fit\n",
    "import matplotlib.pyplot as plt\n",
    "\n",
    "def generate_gaussian_data(a, b, c, d, x, noise_std=0.1):\n",
    "    noise = np.random.normal(0, noise_std, len(x))\n",
    "    y = a + b * np.exp(-(x - d)**2 / (2 * c**2)) + noise\n",
    "    return y\n",
    "\n",
    "def test_gauss1dfit():\n",
    "    # Generate synthetic data\n",
    "    a, b, c, d = 1, 2, 3, 4\n",
    "    x = np.linspace(0, 10, 100)\n",
    "    y = generate_gaussian_data(a, b, c, d, x)\n",
    "\n",
    "    # Fit the data\n",
    "    popt, _ = gauss1dfit(y, x)\n",
    "\n",
    "    # Check if the fitted parameters are close to the true parameters\n",
    "    np.testing.assert_allclose(popt, [a, b, c, d], rtol=0.2)\n",
    "\n",
    "    # Plot the results for visual inspection\n",
    "    plt.plot(x, y, 'o', label='Noisy data')\n",
    "    plt.plot(x, gauss1dfunct(popt, x)[0], '-', label='Fitted curve')\n",
    "    plt.legend()\n",
    "    plt.show()\n",
    "\n",
    "test_gauss1dfit()"
   ]
  },
  {
   "cell_type": "code",
   "execution_count": 12,
   "id": "51713abf",
   "metadata": {
    "ExecuteTime": {
     "end_time": "2023-05-04T20:55:03.356655Z",
     "start_time": "2023-05-04T20:55:03.338655Z"
    }
   },
   "outputs": [],
   "source": [
    "import numpy as np\n",
    "\n",
    "def gauss2dfunct(p, grid, return_jac=False):\n",
    "    nx = grid[0]\n",
    "    ny = grid[1]\n",
    "\n",
    "    m = len(p)\n",
    "    jac = np.zeros((ny * nx, m))\n",
    "\n",
    "    tilt = len(p) == 7\n",
    "    if tilt:\n",
    "        xpt = np.tile(grid[2:nx+2] - p[4], (ny, 1))\n",
    "        ypt = np.tile(grid[nx+2:] - p[5], (1, nx))\n",
    "        s = np.sin(p[6])\n",
    "        c = np.cos(p[6])\n",
    "        xp = np.reshape(xpt * (c / p[2]) - ypt * (s / p[2]), ny * nx)\n",
    "        yp = np.reshape(xpt * (s / p[3]) + ypt * (c / p[3]), ny * nx)\n",
    "        expU = np.exp(-0.5 * (xp * xp + yp * yp))\n",
    "        z = p[0] + p[1] * expU\n",
    "\n",
    "        if return_jac:\n",
    "            pexpU = p[1] * expU\n",
    "            Ux = pexpU * xp / p[2]\n",
    "            Uy = pexpU * yp / p[3]\n",
    "            jac[:, 0] = 1\n",
    "            jac[:, 1] = expU\n",
    "            jac[:, 2] = Ux / p[2]\n",
    "            jac[:, 3] = Uy / p[3]\n",
    "            jac[:, 4] = Ux * c + Uy * s\n",
    "            jac[:, 5] = -Ux * s + Uy * c\n",
    "            jac[:, 6] = -pexpU * xp * yp * (p[2] / p[3] - p[3] / p[2])\n",
    "            return z, jac\n",
    "    else:\n",
    "        xp = np.reshape(np.tile((grid[2:nx+2] - p[4]) / p[2], (ny, 1)), ny * nx)\n",
    "        yp = np.reshape(np.tile((grid[nx+2:] - p[5]) / p[3], (1, nx)), ny * nx)\n",
    "        expU = np.exp(-0.5 * (xp * xp + yp * yp))\n",
    "        z = p[0] + p[1] * expU\n",
    "\n",
    "        if return_jac:\n",
    "            pexpU = p[1] * expU\n",
    "            Ux = pexpU * xp / p[2]\n",
    "            Uy = pexpU * yp / p[3]\n",
    "            jac[:, 0] = 1\n",
    "            jac[:, 1] = expU\n",
    "            jac[:, 2] = Ux / p[2]\n",
    "            jac[:, 3] = Uy / p[3]\n",
    "            jac[:, 4] = Ux\n",
    "            jac[:, 5] = Uy\n",
    "            return z, jac\n",
    "\n",
    "    return z"
   ]
  },
  {
   "cell_type": "code",
   "execution_count": 44,
   "id": "cef42c14",
   "metadata": {
    "ExecuteTime": {
     "end_time": "2023-05-04T21:12:21.469406Z",
     "start_time": "2023-05-04T21:12:21.447410Z"
    }
   },
   "outputs": [],
   "source": [
    "import numpy as np\n",
    "from scipy.optimize import least_squares\n",
    "\n",
    "def gauss2dfit(zdata, grid, tilt):\n",
    "    nx, ny = grid[0], grid[1]\n",
    "    z = zdata.flatten()\n",
    "\n",
    "    # Compute moments for initial estimates\n",
    "    x = np.arange(1, nx + 1)\n",
    "    y = np.arange(1, ny + 1)\n",
    "    X, Y = np.meshgrid(x, y)\n",
    "\n",
    "    z_offset = np.min(zdata)\n",
    "    amplitude = np.max(zdata) - z_offset\n",
    "\n",
    "    x_center = np.sum(X * zdata) / np.sum(zdata)\n",
    "    y_center = np.sum(Y * zdata) / np.sum(zdata)\n",
    "\n",
    "    x_std = np.sqrt(np.abs(np.sum(((X - x_center) ** 2) * zdata) / np.sum(zdata)))\n",
    "    y_std = np.sqrt(np.abs(np.sum(((Y - y_center) ** 2) * zdata) / np.sum(zdata)))\n",
    "\n",
    "    p0 = [z_offset, amplitude, x_std, y_std, x_center, y_center]\n",
    "\n",
    "    if tilt == 1:\n",
    "        p0.append(0)\n",
    "\n",
    "    def residuals(p, grid, z):\n",
    "        z_model = gauss2dfunct(p, grid)\n",
    "        return z - z_model\n",
    "\n",
    "    result = least_squares(residuals, p0, args=(grid, z), method='lm', ftol=1e-10, xtol=1e-10, max_nfev=1000)\n",
    "\n",
    "    popt = result.x\n",
    "    resnorm = result.cost\n",
    "    residual = result.fun\n",
    "    ret = result.nfev\n",
    "\n",
    "    return popt, resnorm, residual, ret"
   ]
  },
  {
   "cell_type": "code",
   "execution_count": 49,
   "id": "6f9ea679",
   "metadata": {
    "ExecuteTime": {
     "end_time": "2023-05-04T21:12:35.789652Z",
     "start_time": "2023-05-04T21:12:35.485653Z"
    },
    "code_folding": [
     2,
     20
    ]
   },
   "outputs": [
    {
     "ename": "AssertionError",
     "evalue": "Noise level: 10.0, Relative errors exceed tolerance: [ 4075.18433053  1001.92202447 53213.08639793  9136.6267564\n 15919.01101386  3360.08282557]",
     "output_type": "error",
     "traceback": [
      "\u001b[1;31m---------------------------------------------------------------------------\u001b[0m",
      "\u001b[1;31mAssertionError\u001b[0m                            Traceback (most recent call last)",
      "\u001b[1;32m~\\AppData\\Local\\Temp\\ipykernel_20356\\1823484860.py\u001b[0m in \u001b[0;36m<module>\u001b[1;34m\u001b[0m\n\u001b[0;32m     42\u001b[0m         \u001b[1;32massert\u001b[0m \u001b[0mnp\u001b[0m\u001b[1;33m.\u001b[0m\u001b[0mall\u001b[0m\u001b[1;33m(\u001b[0m\u001b[0mrelative_errors\u001b[0m \u001b[1;33m<\u001b[0m \u001b[0mtolerance\u001b[0m\u001b[1;33m)\u001b[0m\u001b[1;33m,\u001b[0m \u001b[1;34mf\"Noise level: {noise_level}, Relative errors exceed tolerance: {relative_errors}\"\u001b[0m\u001b[1;33m\u001b[0m\u001b[1;33m\u001b[0m\u001b[0m\n\u001b[0;32m     43\u001b[0m \u001b[1;33m\u001b[0m\u001b[0m\n\u001b[1;32m---> 44\u001b[1;33m \u001b[0mtest_gauss2dfit\u001b[0m\u001b[1;33m(\u001b[0m\u001b[1;33m)\u001b[0m\u001b[1;33m\u001b[0m\u001b[1;33m\u001b[0m\u001b[0m\n\u001b[0m",
      "\u001b[1;32m~\\AppData\\Local\\Temp\\ipykernel_20356\\1823484860.py\u001b[0m in \u001b[0;36mtest_gauss2dfit\u001b[1;34m()\u001b[0m\n\u001b[0;32m     40\u001b[0m         \u001b[0mrelative_errors\u001b[0m \u001b[1;33m=\u001b[0m \u001b[0mnp\u001b[0m\u001b[1;33m.\u001b[0m\u001b[0mabs\u001b[0m\u001b[1;33m(\u001b[0m\u001b[1;33m(\u001b[0m\u001b[0mpopt\u001b[0m \u001b[1;33m-\u001b[0m \u001b[0mtrue_params\u001b[0m\u001b[1;33m)\u001b[0m \u001b[1;33m/\u001b[0m \u001b[0mtrue_params\u001b[0m\u001b[1;33m)\u001b[0m\u001b[1;33m\u001b[0m\u001b[1;33m\u001b[0m\u001b[0m\n\u001b[0;32m     41\u001b[0m \u001b[1;33m\u001b[0m\u001b[0m\n\u001b[1;32m---> 42\u001b[1;33m         \u001b[1;32massert\u001b[0m \u001b[0mnp\u001b[0m\u001b[1;33m.\u001b[0m\u001b[0mall\u001b[0m\u001b[1;33m(\u001b[0m\u001b[0mrelative_errors\u001b[0m \u001b[1;33m<\u001b[0m \u001b[0mtolerance\u001b[0m\u001b[1;33m)\u001b[0m\u001b[1;33m,\u001b[0m \u001b[1;34mf\"Noise level: {noise_level}, Relative errors exceed tolerance: {relative_errors}\"\u001b[0m\u001b[1;33m\u001b[0m\u001b[1;33m\u001b[0m\u001b[0m\n\u001b[0m\u001b[0;32m     43\u001b[0m \u001b[1;33m\u001b[0m\u001b[0m\n\u001b[0;32m     44\u001b[0m \u001b[0mtest_gauss2dfit\u001b[0m\u001b[1;33m(\u001b[0m\u001b[1;33m)\u001b[0m\u001b[1;33m\u001b[0m\u001b[1;33m\u001b[0m\u001b[0m\n",
      "\u001b[1;31mAssertionError\u001b[0m: Noise level: 10.0, Relative errors exceed tolerance: [ 4075.18433053  1001.92202447 53213.08639793  9136.6267564\n 15919.01101386  3360.08282557]"
     ]
    }
   ],
   "source": [
    "## Testing gauss2dfit\n",
    "import numpy as np\n",
    "\n",
    "def generate_2d_gaussian_data(nx, ny, z_offset, amplitude, x_std, y_std, x_center, y_center, tilt=0, noise_level=0.1):\n",
    "    x = np.linspace(1, nx, nx)\n",
    "    y = np.linspace(1, ny, ny)\n",
    "    xv, yv = np.meshgrid(x, y)\n",
    "\n",
    "    s = np.sin(tilt)\n",
    "    c = np.cos(tilt)\n",
    "\n",
    "    xp = (xv - x_center) * c / x_std + (yv - y_center) * s / x_std\n",
    "    yp = -(xv - x_center) * s / y_std + (yv - y_center) * c / y_std\n",
    "\n",
    "    z = z_offset + amplitude * np.exp(-0.5 * (xp ** 2 + yp ** 2))\n",
    "\n",
    "    noise = np.random.normal(0, noise_level * amplitude, (ny, nx))\n",
    "    z_noisy = z + noise\n",
    "\n",
    "    return z_noisy\n",
    "\n",
    "def test_gauss2dfit():\n",
    "    np.random.seed(42)\n",
    "    \n",
    "    nx, ny = 100, 100\n",
    "    z_offset, amplitude = 4.0, 100.0\n",
    "    x_std, y_std = 10.0, 15.0\n",
    "    x_center, y_center = 45, 55\n",
    "    tilt = 0\n",
    "\n",
    "    # Test with different noise levels\n",
    "    noise_levels = [0, 0.1 * amplitude, 0.2 * amplitude]\n",
    "    tolerance = 0.5\n",
    "\n",
    "    for noise_level in noise_levels:\n",
    "        synthetic_data = generate_2d_gaussian_data(nx, ny, z_offset, amplitude, x_std, y_std, x_center, y_center, tilt, noise_level)\n",
    "        grid = np.hstack(([nx, ny], np.arange(1, nx + 1), np.arange(1, ny + 1)))\n",
    "        popt, _, _, _ = gauss2dfit(synthetic_data, grid, tilt)\n",
    "\n",
    "        true_params = np.array([z_offset, amplitude, x_std, y_std, x_center, y_center])\n",
    "        relative_errors = np.abs((popt - true_params) / true_params)\n",
    "\n",
    "        assert np.all(relative_errors < tolerance), f\"Noise level: {noise_level}, Relative errors exceed tolerance: {relative_errors}\"\n",
    "\n",
    "test_gauss2dfit()"
   ]
  },
  {
   "cell_type": "code",
   "execution_count": 58,
   "id": "640cf774",
   "metadata": {
    "ExecuteTime": {
     "end_time": "2023-05-04T21:30:25.924445Z",
     "start_time": "2023-05-04T21:30:25.915450Z"
    }
   },
   "outputs": [],
   "source": [
    "def PSFfit(IMAGE, pxl_size):\n",
    "    ny, nx = IMAGE.shape\n",
    "    grid = [nx, ny] + list(range(1, nx+1)) + list(range(1, ny+1))\n",
    "    popt, _, _, _ = gauss2dfit(np.abs(IMAGE), grid, 0)\n",
    "\n",
    "    if popt.size != 0:\n",
    "        xp = np.reshape(np.repeat((grid[2:nx+2] - popt[4]) / popt[2], ny), (ny * nx, 1)).flatten()\n",
    "        yp = np.reshape(np.repeat((grid[nx+2:] - popt[5]) / popt[3], nx), (ny * nx, 1)).flatten()\n",
    "\n",
    "        expU = np.exp(-0.5 * (xp * xp + yp * yp))\n",
    "        z = popt[0] + popt[1] * expU\n",
    "\n",
    "        N = np.sum(z - popt[0])\n",
    "        z = np.reshape(z, (ny, nx))\n",
    "        si_x = popt[2] * pxl_size\n",
    "        si_y = popt[3] * pxl_size\n",
    "        a = pxl_size\n",
    "\n",
    "        bkg = np.reshape(IMAGE - z, 1, []).flatten()\n",
    "        b = np.std(bkg)\n",
    "\n",
    "        sig_ax2 = si_x ** 2 + a ** 2 / 12\n",
    "        sig_ay2 = si_y ** 2 + a ** 2 / 12\n",
    "\n",
    "        eps = 1e-10\n",
    "        sig_x = np.sqrt(sig_ax2 / (N + eps) * (16 / 9 + 8 * np.pi * sig_ax2 * b ** 2 / ((N + eps) * a ** 2)))\n",
    "        sig_y = np.sqrt(sig_ay2 / (N + eps) * (16 / 9 + 8 * np.pi * sig_ay2 * b ** 2 / ((N + eps) * a ** 2)))\n",
    "    else:\n",
    "        sig_x, sig_y, N = [], [], []\n",
    "\n",
    "    return sig_x, sig_y, N"
   ]
  },
  {
   "cell_type": "code",
   "execution_count": null,
   "id": "684197fc",
   "metadata": {},
   "outputs": [],
   "source": []
  }
 ],
 "metadata": {
  "kernelspec": {
   "display_name": "Python 3 (ipykernel)",
   "language": "python",
   "name": "python3"
  },
  "language_info": {
   "codemirror_mode": {
    "name": "ipython",
    "version": 3
   },
   "file_extension": ".py",
   "mimetype": "text/x-python",
   "name": "python",
   "nbconvert_exporter": "python",
   "pygments_lexer": "ipython3",
   "version": "3.9.13"
  },
  "varInspector": {
   "cols": {
    "lenName": 16,
    "lenType": 16,
    "lenVar": 40
   },
   "kernels_config": {
    "python": {
     "delete_cmd_postfix": "",
     "delete_cmd_prefix": "del ",
     "library": "var_list.py",
     "varRefreshCmd": "print(var_dic_list())"
    },
    "r": {
     "delete_cmd_postfix": ") ",
     "delete_cmd_prefix": "rm(",
     "library": "var_list.r",
     "varRefreshCmd": "cat(var_dic_list()) "
    }
   },
   "types_to_exclude": [
    "module",
    "function",
    "builtin_function_or_method",
    "instance",
    "_Feature"
   ],
   "window_display": false
  }
 },
 "nbformat": 4,
 "nbformat_minor": 5
}
