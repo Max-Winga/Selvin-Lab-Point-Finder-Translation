{
 "cells": [
  {
   "cell_type": "code",
   "execution_count": 1,
   "id": "b030c55f",
   "metadata": {
    "ExecuteTime": {
     "end_time": "2023-05-04T19:07:33.046707Z",
     "start_time": "2023-05-04T19:07:31.121789Z"
    }
   },
   "outputs": [],
   "source": [
    "import numpy as np\n",
    "import time as t\n",
    "import math as m\n",
    "from matplotlib import pyplot as plt\n",
    "from  matplotlib.animation import FuncAnimation\n",
    "from scipy.optimize import least_squares"
   ]
  },
  {
   "cell_type": "code",
   "execution_count": 3,
   "id": "42b6f5e8",
   "metadata": {
    "ExecuteTime": {
     "end_time": "2023-05-05T16:34:59.726204Z",
     "start_time": "2023-05-05T16:34:59.712203Z"
    }
   },
   "outputs": [],
   "source": [
    "def load_tiff_movie(pathname, filename):\n",
    "    fullpath = pathname + filename\n",
    "    # read the image stack\n",
    "    imgs = np.array(io.imread(fullpath))\n",
    "    return imgs, imgs.shape[0]"
   ]
  },
  {
   "cell_type": "code",
   "execution_count": 4,
   "id": "7ce53a81",
   "metadata": {
    "ExecuteTime": {
     "end_time": "2023-05-05T16:35:01.270634Z",
     "start_time": "2023-05-05T16:35:00.953603Z"
    }
   },
   "outputs": [
    {
     "ename": "NameError",
     "evalue": "name 'io' is not defined",
     "output_type": "error",
     "traceback": [
      "\u001b[1;31m---------------------------------------------------------------------------\u001b[0m",
      "\u001b[1;31mNameError\u001b[0m                                 Traceback (most recent call last)",
      "\u001b[1;32m~\\AppData\\Local\\Temp\\ipykernel_16140\\3279128207.py\u001b[0m in \u001b[0;36m<module>\u001b[1;34m\u001b[0m\n\u001b[0;32m      1\u001b[0m \u001b[0mpathname\u001b[0m \u001b[1;33m=\u001b[0m \u001b[1;34m'C:/Users/icedn/Jupyter/SelvinLab/MatLab to Python/'\u001b[0m\u001b[1;33m\u001b[0m\u001b[1;33m\u001b[0m\u001b[0m\n\u001b[0;32m      2\u001b[0m \u001b[0mfilename\u001b[0m \u001b[1;33m=\u001b[0m \u001b[1;34m'TSB_488.tif'\u001b[0m\u001b[1;33m\u001b[0m\u001b[1;33m\u001b[0m\u001b[0m\n\u001b[1;32m----> 3\u001b[1;33m \u001b[0mrawframes\u001b[0m\u001b[1;33m,\u001b[0m \u001b[0mnumframe\u001b[0m \u001b[1;33m=\u001b[0m \u001b[0mload_tiff_movie\u001b[0m\u001b[1;33m(\u001b[0m\u001b[0mpathname\u001b[0m\u001b[1;33m,\u001b[0m \u001b[0mfilename\u001b[0m\u001b[1;33m)\u001b[0m\u001b[1;33m\u001b[0m\u001b[1;33m\u001b[0m\u001b[0m\n\u001b[0m",
      "\u001b[1;32m~\\AppData\\Local\\Temp\\ipykernel_16140\\498450530.py\u001b[0m in \u001b[0;36mload_tiff_movie\u001b[1;34m(pathname, filename)\u001b[0m\n\u001b[0;32m      2\u001b[0m     \u001b[0mfullpath\u001b[0m \u001b[1;33m=\u001b[0m \u001b[0mpathname\u001b[0m \u001b[1;33m+\u001b[0m \u001b[0mfilename\u001b[0m\u001b[1;33m\u001b[0m\u001b[1;33m\u001b[0m\u001b[0m\n\u001b[0;32m      3\u001b[0m     \u001b[1;31m# read the image stack\u001b[0m\u001b[1;33m\u001b[0m\u001b[1;33m\u001b[0m\u001b[0m\n\u001b[1;32m----> 4\u001b[1;33m     \u001b[0mimgs\u001b[0m \u001b[1;33m=\u001b[0m \u001b[0mnp\u001b[0m\u001b[1;33m.\u001b[0m\u001b[0marray\u001b[0m\u001b[1;33m(\u001b[0m\u001b[0mio\u001b[0m\u001b[1;33m.\u001b[0m\u001b[0mimread\u001b[0m\u001b[1;33m(\u001b[0m\u001b[0mfullpath\u001b[0m\u001b[1;33m)\u001b[0m\u001b[1;33m)\u001b[0m\u001b[1;33m\u001b[0m\u001b[1;33m\u001b[0m\u001b[0m\n\u001b[0m\u001b[0;32m      5\u001b[0m     \u001b[1;32mreturn\u001b[0m \u001b[0mimgs\u001b[0m\u001b[1;33m,\u001b[0m \u001b[0mimgs\u001b[0m\u001b[1;33m.\u001b[0m\u001b[0mshape\u001b[0m\u001b[1;33m[\u001b[0m\u001b[1;36m0\u001b[0m\u001b[1;33m]\u001b[0m\u001b[1;33m\u001b[0m\u001b[1;33m\u001b[0m\u001b[0m\n",
      "\u001b[1;31mNameError\u001b[0m: name 'io' is not defined"
     ]
    }
   ],
   "source": [
    "pathname = 'C:/Users/icedn/Jupyter/SelvinLab/MatLab to Python/'\n",
    "filename = 'TSB_488.tif'\n",
    "rawframes, numframe = load_tiff_movie(pathname, filename)"
   ]
  },
  {
   "cell_type": "code",
   "execution_count": 5,
   "id": "0798bd72",
   "metadata": {
    "ExecuteTime": {
     "end_time": "2023-05-05T16:35:03.078519Z",
     "start_time": "2023-05-05T16:35:03.071520Z"
    },
    "code_folding": []
   },
   "outputs": [],
   "source": [
    "def create_tiff_animation(pathname, filename):\n",
    "    data, n_frames = load_tiff_movie(pathname, filename)\n",
    "\n",
    "    fig, ax = plt.subplots()\n",
    "    plot = ax.imshow(data[0], cmap=\"gray\", animated=True)\n",
    "    plt.title(f\"Animating {n_frames} frames of {filename}\")\n",
    "    def update(i):\n",
    "        if i==0: \n",
    "            return\n",
    "        plot = ax.imshow(data[i], cmap=\"gray\", animated=True)\n",
    "        return [plot]\n",
    "\n",
    "    anim = FuncAnimation(fig, update, frames=n_frames, interval = 50, repeat=False, cache_frame_data=True)\n",
    "    anim.save(f\"{filename[:-4]}_animated.gif\")\n",
    "    plt.show()\n",
    "# create_tiff_animation(pathname, filename)"
   ]
  },
  {
   "cell_type": "code",
   "execution_count": 2,
   "id": "44b3a2ee",
   "metadata": {
    "ExecuteTime": {
     "end_time": "2023-05-05T16:27:51.412175Z",
     "start_time": "2023-05-05T16:27:50.947146Z"
    },
    "code_folding": [
     2,
     31,
     34
    ]
   },
   "outputs": [],
   "source": []
  },
  {
   "cell_type": "code",
   "execution_count": null,
   "id": "41bf809d",
   "metadata": {},
   "outputs": [],
   "source": []
  }
 ],
 "metadata": {
  "kernelspec": {
   "display_name": "Python 3 (ipykernel)",
   "language": "python",
   "name": "python3"
  },
  "language_info": {
   "codemirror_mode": {
    "name": "ipython",
    "version": 3
   },
   "file_extension": ".py",
   "mimetype": "text/x-python",
   "name": "python",
   "nbconvert_exporter": "python",
   "pygments_lexer": "ipython3",
   "version": "3.9.13"
  },
  "varInspector": {
   "cols": {
    "lenName": 16,
    "lenType": 16,
    "lenVar": 40
   },
   "kernels_config": {
    "python": {
     "delete_cmd_postfix": "",
     "delete_cmd_prefix": "del ",
     "library": "var_list.py",
     "varRefreshCmd": "print(var_dic_list())"
    },
    "r": {
     "delete_cmd_postfix": ") ",
     "delete_cmd_prefix": "rm(",
     "library": "var_list.r",
     "varRefreshCmd": "cat(var_dic_list()) "
    }
   },
   "types_to_exclude": [
    "module",
    "function",
    "builtin_function_or_method",
    "instance",
    "_Feature"
   ],
   "window_display": false
  }
 },
 "nbformat": 4,
 "nbformat_minor": 5
}
