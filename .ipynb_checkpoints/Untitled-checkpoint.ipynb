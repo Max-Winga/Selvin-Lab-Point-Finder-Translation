{
 "cells": [
  {
   "cell_type": "code",
   "execution_count": 1,
   "id": "78fce0ef",
   "metadata": {
    "ExecuteTime": {
     "end_time": "2023-02-17T15:24:56.109580Z",
     "start_time": "2023-02-17T15:24:54.885613Z"
    }
   },
   "outputs": [
    {
     "name": "stderr",
     "output_type": "stream",
     "text": [
      "C:\\Users\\icedn\\AppData\\Local\\Temp\\ipykernel_18600\\3623341086.py:4: DeprecationWarning: Please use `label` from the `scipy.ndimage` namespace, the `scipy.ndimage.measurements` namespace is deprecated.\n",
      "  from scipy.ndimage.measurements import label, center_of_mass\n",
      "C:\\Users\\icedn\\AppData\\Local\\Temp\\ipykernel_18600\\3623341086.py:4: DeprecationWarning: Please use `center_of_mass` from the `scipy.ndimage` namespace, the `scipy.ndimage.measurements` namespace is deprecated.\n",
      "  from scipy.ndimage.measurements import label, center_of_mass\n"
     ]
    }
   ],
   "source": [
    "import numpy as np\n",
    "from scipy.ndimage import median_filter\n",
    "from scipy.signal import convolve2d\n",
    "from scipy.ndimage.measurements import label, center_of_mass\n",
    "\n",
    "def FastPeakFind(d, thres=None, filt=None, edg=3, res=1, fid=None):\n",
    "    # defaults\n",
    "    original = d\n",
    "    if d is None:\n",
    "        d = np.random.rand(1024, 1024) > 0.99995\n",
    "        d = d.astype(np.uint16) * 2**14\n",
    "        d = d.reshape((1024, 1024))\n",
    "        d = d.astype(np.uint16)\n",
    "        d = convolve2d(d, np.array([[1, 1, 1], [1, 1, 1], [1, 1, 1]]) / 9, mode=\"same\")\n",
    "        d += np.random.rand(1024, 1024) * 2**8\n",
    "        d = d.astype(np.uint16)\n",
    "    if d.ndim > 2:\n",
    "        d = np.uint16(np.dot(d[..., :3], [0.2989, 0.5870, 0.1140]))\n",
    "    if d.dtype == np.float:\n",
    "        if np.max(d) <= 1:\n",
    "            d = np.uint16(d * 2**16 / np.max(d))\n",
    "        else:\n",
    "            d = d.astype(np.uint16)\n",
    "    if thres is None:\n",
    "        thres = np.min([np.max(d, axis=0), np.max(d, axis=1)])\n",
    "    if filt is None:\n",
    "        filt = np.array([[0.0751, 0.1238, 0.0751], [0.1238, 0.2042, 0.1238], [0.0751, 0.1238, 0.0751]])\n",
    "    if edg is None:\n",
    "        edg = 3\n",
    "    if res is None:\n",
    "        res = 1\n",
    "    if fid is not None:\n",
    "        savefileflag = True\n",
    "    else:\n",
    "        savefileflag = False\n",
    "\n",
    "    # Analyze image\n",
    "    if np.any(d):  # for the case of non-zero raw image\n",
    "        d = median_filter(d, size=(3, 3))\n",
    "        # apply threshold\n",
    "        d = d * (d > thres)\n",
    "        if np.any(d):  # for the case of the image is still non-zero\n",
    "            d = convolve2d(d, filt, mode=\"same\")\n",
    "            if res == 1:\n",
    "                cm = np.zeros_like(d)\n",
    "                cm[edg:-edg, edg:-edg] = ((d[edg:-edg, edg:-edg] > d[edg:-edg, edg - 1:-edg - 1]) &\n",
    "                                         (d[edg:-edg, edg:-edg] > d[edg:-edg, edg + 1:edg + 1]))\n",
    "                cent = np.flatnonzero(cm)\n",
    "                cent = np.stack(np.unravel_index(cent, cm.shape), axis=1).flatten()\n",
    "            elif res == 2:\n",
    "                labeled_array, num_features = label(d[edg:-edg, edg:-edg] > 0)\n",
    "                if num_features > 0:\n",
    "                    cent = center_of_mass(d[edg:-edg, edg:-edg], labeled_array, range(1, num_features + 1))\n",
    "                    cent = np.array(cent) + edg\n"
   ]
  },
  {
   "cell_type": "code",
   "execution_count": null,
   "id": "5c03b0ae",
   "metadata": {},
   "outputs": [],
   "source": []
  }
 ],
 "metadata": {
  "kernelspec": {
   "display_name": "Python 3 (ipykernel)",
   "language": "python",
   "name": "python3"
  },
  "language_info": {
   "codemirror_mode": {
    "name": "ipython",
    "version": 3
   },
   "file_extension": ".py",
   "mimetype": "text/x-python",
   "name": "python",
   "nbconvert_exporter": "python",
   "pygments_lexer": "ipython3",
   "version": "3.9.13"
  },
  "varInspector": {
   "cols": {
    "lenName": 16,
    "lenType": 16,
    "lenVar": 40
   },
   "kernels_config": {
    "python": {
     "delete_cmd_postfix": "",
     "delete_cmd_prefix": "del ",
     "library": "var_list.py",
     "varRefreshCmd": "print(var_dic_list())"
    },
    "r": {
     "delete_cmd_postfix": ") ",
     "delete_cmd_prefix": "rm(",
     "library": "var_list.r",
     "varRefreshCmd": "cat(var_dic_list()) "
    }
   },
   "types_to_exclude": [
    "module",
    "function",
    "builtin_function_or_method",
    "instance",
    "_Feature"
   ],
   "window_display": false
  }
 },
 "nbformat": 4,
 "nbformat_minor": 5
}
